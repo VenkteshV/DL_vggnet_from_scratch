{
 "cells": [
  {
   "cell_type": "code",
   "execution_count": null,
   "metadata": {},
   "outputs": [],
   "source": [
    "import pickle\n",
    "with open('train.pkl','rb') as f:\n",
    "    data = pickle.load(f)\n",
    "# data"
   ]
  },
  {
   "cell_type": "code",
   "execution_count": null,
   "metadata": {},
   "outputs": [],
   "source": [
    "import numpy as np\n",
    "from PIL import Image\n",
    "image_data = []\n",
    "for image in data['images']:\n",
    "    image_data.append(np.array(image))\n",
    "# image_data "
   ]
  },
  {
   "cell_type": "code",
   "execution_count": null,
   "metadata": {},
   "outputs": [],
   "source": [
    "labels = data['labels']\n",
    "# labels"
   ]
  },
  {
   "cell_type": "code",
   "execution_count": null,
   "metadata": {},
   "outputs": [],
   "source": [
    "import PIL\n",
    "def display_images(images):\n",
    "        img = Image.fromarray(images)\n",
    "        display(img.resize((128,128),PIL.Image.LANCZOS))"
   ]
  },
  {
   "cell_type": "markdown",
   "metadata": {},
   "source": [
    "##  Question1: Display 10 random images from each class"
   ]
  },
  {
   "cell_type": "code",
   "execution_count": null,
   "metadata": {},
   "outputs": [],
   "source": [
    "unique_labels = list(set(labels))\n",
    "label_image_dict = {key:[] for key in unique_labels}"
   ]
  },
  {
   "cell_type": "code",
   "execution_count": null,
   "metadata": {},
   "outputs": [],
   "source": [
    "# for key in unique_labels:\n",
    "    "
   ]
  },
  {
   "cell_type": "code",
   "execution_count": null,
   "metadata": {},
   "outputs": [],
   "source": [
    "labels_arr = np.array(labels)\n"
   ]
  },
  {
   "cell_type": "code",
   "execution_count": null,
   "metadata": {},
   "outputs": [],
   "source": [
    "labels[4936]"
   ]
  },
  {
   "cell_type": "code",
   "execution_count": null,
   "metadata": {},
   "outputs": [],
   "source": [
    "import random\n",
    "for label in unique_labels:\n",
    "    indices = np.where(labels_arr==label)[0]\n",
    "    rand_indices = random.randint(0, 9)\n",
    "    indices = indices[:rand_indices]\n",
    "    for index in indices:\n",
    "        print(\"labels:{}\".format(label))\n",
    "        display_images(image_data[index])"
   ]
  },
  {
   "cell_type": "code",
   "execution_count": null,
   "metadata": {},
   "outputs": [],
   "source": [
    "import torch.nn as nn\n",
    "\n",
    "class VGG(nn.Module):\n",
    "    def vgg_conv_layers(self,number_convolutions, input_channels, output_channels):\n",
    "        conv_layers = []\n",
    "        for convolutions in range(number_convolutions):\n",
    "            conv_layers.append(nn.Conv2d(input_channels,output_channels,kernel_size=3,padding=1))\n",
    "            conv_layers.append(nn.ReLU())\n",
    "        return conv_layers\n",
    "        \n",
    "    def __init__(self, image, architecture):\n",
    "        super(VGG, self).__init__()\n",
    "        self.image = image\n",
    "        self.blocks = []\n",
    "            \n",
    "        input_channels =self.image[0].shape[-1]\n",
    "        for (number_convolutions, output_channels) in architecture:\n",
    "            self.blocks.append(nn.Sequential(*self.vgg_conv_layers(number_convolutions, input_channels, output_channels)))\n",
    "            input_channels = output_channels\n",
    "            \n",
    "\n",
    "        self.network = nn.Sequential(\n",
    "            *self.blocks,\n",
    "            nn.Flatten(),\n",
    "            nn.Linear(output_channels*16*16, 4096),\n",
    "            nn.ReLU(), \n",
    "            nn.Dropout(0.5),\n",
    "            nn.Linear(4096, 4096), \n",
    "            nn.ReLU(), \n",
    "            nn.Dropout(0.5),\n",
    "            nn.Linear(4096, 10)\n",
    "        )\n",
    "        \n",
    "\n",
    "\n",
    "\n",
    "    def forward(self, x):\n",
    "        x = self.network(x)\n",
    "        return x\n",
    "    "
   ]
  },
  {
   "cell_type": "code",
   "execution_count": null,
   "metadata": {},
   "outputs": [],
   "source": [
    "vgg_net = VGG(image_data, [(2,16)])"
   ]
  },
  {
   "cell_type": "code",
   "execution_count": null,
   "metadata": {},
   "outputs": [],
   "source": [
    "vgg_net.to('cuda')"
   ]
  },
  {
   "cell_type": "code",
   "execution_count": null,
   "metadata": {},
   "outputs": [],
   "source": []
  },
  {
   "cell_type": "code",
   "execution_count": null,
   "metadata": {},
   "outputs": [],
   "source": []
  },
  {
   "cell_type": "code",
   "execution_count": null,
   "metadata": {},
   "outputs": [],
   "source": []
  },
  {
   "cell_type": "code",
   "execution_count": null,
   "metadata": {},
   "outputs": [],
   "source": []
  },
  {
   "cell_type": "code",
   "execution_count": null,
   "metadata": {},
   "outputs": [],
   "source": []
  },
  {
   "cell_type": "code",
   "execution_count": null,
   "metadata": {},
   "outputs": [],
   "source": []
  },
  {
   "cell_type": "code",
   "execution_count": null,
   "metadata": {},
   "outputs": [],
   "source": []
  },
  {
   "cell_type": "code",
   "execution_count": null,
   "metadata": {},
   "outputs": [],
   "source": []
  }
 ],
 "metadata": {
  "kernelspec": {
   "display_name": "Python 3",
   "language": "python",
   "name": "python3"
  },
  "language_info": {
   "codemirror_mode": {
    "name": "ipython",
    "version": 3
   },
   "file_extension": ".py",
   "mimetype": "text/x-python",
   "name": "python",
   "nbconvert_exporter": "python",
   "pygments_lexer": "ipython3",
   "version": "3.7.7"
  }
 },
 "nbformat": 4,
 "nbformat_minor": 2
}
